{
 "cells": [
  {
   "cell_type": "markdown",
   "metadata": {},
   "source": [
    "# Projeto 2 - Ciência dos Dados"
   ]
  },
  {
   "cell_type": "markdown",
   "metadata": {},
   "source": [
    "• Alunos: Gustavo Guedes, Maia Fleider, Natália Carreras e Tiago Seixas. "
   ]
  },
  {
   "cell_type": "markdown",
   "metadata": {},
   "source": [
    "## > Introdução"
   ]
  },
  {
   "cell_type": "markdown",
   "metadata": {},
   "source": [
    "### ❑ Objetivos e detalhes da base de dados:"
   ]
  },
  {
   "cell_type": "markdown",
   "metadata": {},
   "source": [
    "▶ O objetivo geral de nosso projeto é realizar um **modelo de predição** de **níveis de radiação solar**. Nesse sentido, analisamos também como outras features (umidade e temperatura, por exemplo) influenciam o comportamento da varíavel. Para a realização do projeto, utlizamos uma base de dados fornecida a participantes da NASA Hackathon (Space Apps Moscow).\n",
    "\n",
    "▶ A base de dados foi produzida através de dados metereológicos retirados, ao longo de meses, da estação HI-SEAS, localizada no Havaí, Estados Unidos.\n",
    "\n",
    "<ol>• Para mais detalhes, acesse: \n",
    "<li> Kaggle (base de dados): <a href=\"https://www.kaggle.com/dronio/SolarEnergy\" > Solar Radiation </a> </li>\n",
    "</ol>"
   ]
  },
  {
   "cell_type": "markdown",
   "metadata": {},
   "source": [
    "<img src=\"img/painelsolar.jpg\" width=550>"
   ]
  },
  {
   "cell_type": "markdown",
   "metadata": {},
   "source": [
    "## > Minerando Dados e Características do Dataset"
   ]
  },
  {
   "cell_type": "code",
   "execution_count": 1,
   "metadata": {},
   "outputs": [],
   "source": [
    "#Importando biblotecas úteis:\n",
    "\n",
    "%matplotlib inline\n",
    "from sklearn.utils import shuffle\n",
    "import matplotlib \n",
    "import matplotlib.pyplot as plt\n",
    "import pandas as pd\n",
    "import numpy as np\n",
    "import seaborn as sns\n",
    "from scipy import stats\n",
    "import os\n",
    "import re \n",
    "import statsmodels.api as sm"
   ]
  },
  {
   "cell_type": "markdown",
   "metadata": {},
   "source": [
    "### ❑ Filtros e leitura do Dataset: "
   ]
  },
  {
   "cell_type": "code",
   "execution_count": 2,
   "metadata": {},
   "outputs": [
    {
     "data": {
      "text/html": [
       "<div>\n",
       "<style scoped>\n",
       "    .dataframe tbody tr th:only-of-type {\n",
       "        vertical-align: middle;\n",
       "    }\n",
       "\n",
       "    .dataframe tbody tr th {\n",
       "        vertical-align: top;\n",
       "    }\n",
       "\n",
       "    .dataframe thead th {\n",
       "        text-align: right;\n",
       "    }\n",
       "</style>\n",
       "<table border=\"1\" class=\"dataframe\">\n",
       "  <thead>\n",
       "    <tr style=\"text-align: right;\">\n",
       "      <th></th>\n",
       "      <th>UNIXTime</th>\n",
       "      <th>Data</th>\n",
       "      <th>Time</th>\n",
       "      <th>Radiation</th>\n",
       "      <th>Temperature</th>\n",
       "      <th>Pressure</th>\n",
       "      <th>Humidity</th>\n",
       "      <th>WindDirection(Degrees)</th>\n",
       "      <th>Speed</th>\n",
       "      <th>TimeSunRise</th>\n",
       "      <th>TimeSunSet</th>\n",
       "    </tr>\n",
       "  </thead>\n",
       "  <tbody>\n",
       "    <tr>\n",
       "      <td>0</td>\n",
       "      <td>1475229326</td>\n",
       "      <td>9/29/2016 12:00:00 AM</td>\n",
       "      <td>23:55:26</td>\n",
       "      <td>1.21</td>\n",
       "      <td>48</td>\n",
       "      <td>30.46</td>\n",
       "      <td>59</td>\n",
       "      <td>177.39</td>\n",
       "      <td>5.62</td>\n",
       "      <td>06:13:00</td>\n",
       "      <td>18:13:00</td>\n",
       "    </tr>\n",
       "    <tr>\n",
       "      <td>1</td>\n",
       "      <td>1475229023</td>\n",
       "      <td>9/29/2016 12:00:00 AM</td>\n",
       "      <td>23:50:23</td>\n",
       "      <td>1.21</td>\n",
       "      <td>48</td>\n",
       "      <td>30.46</td>\n",
       "      <td>58</td>\n",
       "      <td>176.78</td>\n",
       "      <td>3.37</td>\n",
       "      <td>06:13:00</td>\n",
       "      <td>18:13:00</td>\n",
       "    </tr>\n",
       "    <tr>\n",
       "      <td>2</td>\n",
       "      <td>1475228726</td>\n",
       "      <td>9/29/2016 12:00:00 AM</td>\n",
       "      <td>23:45:26</td>\n",
       "      <td>1.23</td>\n",
       "      <td>48</td>\n",
       "      <td>30.46</td>\n",
       "      <td>57</td>\n",
       "      <td>158.75</td>\n",
       "      <td>3.37</td>\n",
       "      <td>06:13:00</td>\n",
       "      <td>18:13:00</td>\n",
       "    </tr>\n",
       "    <tr>\n",
       "      <td>3</td>\n",
       "      <td>1475228421</td>\n",
       "      <td>9/29/2016 12:00:00 AM</td>\n",
       "      <td>23:40:21</td>\n",
       "      <td>1.21</td>\n",
       "      <td>48</td>\n",
       "      <td>30.46</td>\n",
       "      <td>60</td>\n",
       "      <td>137.71</td>\n",
       "      <td>3.37</td>\n",
       "      <td>06:13:00</td>\n",
       "      <td>18:13:00</td>\n",
       "    </tr>\n",
       "    <tr>\n",
       "      <td>4</td>\n",
       "      <td>1475228124</td>\n",
       "      <td>9/29/2016 12:00:00 AM</td>\n",
       "      <td>23:35:24</td>\n",
       "      <td>1.17</td>\n",
       "      <td>48</td>\n",
       "      <td>30.46</td>\n",
       "      <td>62</td>\n",
       "      <td>104.95</td>\n",
       "      <td>5.62</td>\n",
       "      <td>06:13:00</td>\n",
       "      <td>18:13:00</td>\n",
       "    </tr>\n",
       "  </tbody>\n",
       "</table>\n",
       "</div>"
      ],
      "text/plain": [
       "     UNIXTime                   Data      Time  Radiation  Temperature  \\\n",
       "0  1475229326  9/29/2016 12:00:00 AM  23:55:26       1.21           48   \n",
       "1  1475229023  9/29/2016 12:00:00 AM  23:50:23       1.21           48   \n",
       "2  1475228726  9/29/2016 12:00:00 AM  23:45:26       1.23           48   \n",
       "3  1475228421  9/29/2016 12:00:00 AM  23:40:21       1.21           48   \n",
       "4  1475228124  9/29/2016 12:00:00 AM  23:35:24       1.17           48   \n",
       "\n",
       "   Pressure  Humidity  WindDirection(Degrees)  Speed TimeSunRise TimeSunSet  \n",
       "0     30.46        59                  177.39   5.62    06:13:00   18:13:00  \n",
       "1     30.46        58                  176.78   3.37    06:13:00   18:13:00  \n",
       "2     30.46        57                  158.75   3.37    06:13:00   18:13:00  \n",
       "3     30.46        60                  137.71   3.37    06:13:00   18:13:00  \n",
       "4     30.46        62                  104.95   5.62    06:13:00   18:13:00  "
      ]
     },
     "execution_count": 2,
     "metadata": {},
     "output_type": "execute_result"
    }
   ],
   "source": [
    "#Iniciando leitura de dados:\n",
    "raw_data = pd.read_csv('SolarPrediction.csv')\n",
    "raw_data.head(5)"
   ]
  },
  {
   "cell_type": "code",
   "execution_count": 3,
   "metadata": {},
   "outputs": [
    {
     "data": {
      "text/html": [
       "<div>\n",
       "<style scoped>\n",
       "    .dataframe tbody tr th:only-of-type {\n",
       "        vertical-align: middle;\n",
       "    }\n",
       "\n",
       "    .dataframe tbody tr th {\n",
       "        vertical-align: top;\n",
       "    }\n",
       "\n",
       "    .dataframe thead th {\n",
       "        text-align: right;\n",
       "    }\n",
       "</style>\n",
       "<table border=\"1\" class=\"dataframe\">\n",
       "  <thead>\n",
       "    <tr style=\"text-align: right;\">\n",
       "      <th></th>\n",
       "      <th>UNIXTime</th>\n",
       "      <th>Data</th>\n",
       "      <th>Time</th>\n",
       "      <th>Radiation</th>\n",
       "      <th>Temperature</th>\n",
       "      <th>Pressure</th>\n",
       "      <th>Humidity</th>\n",
       "      <th>WindDirection(Degrees)</th>\n",
       "      <th>Speed</th>\n",
       "    </tr>\n",
       "  </thead>\n",
       "  <tbody>\n",
       "    <tr>\n",
       "      <td>0</td>\n",
       "      <td>1475229326</td>\n",
       "      <td>9/29/2016 12:00:00 AM</td>\n",
       "      <td>23:55:26</td>\n",
       "      <td>1.21</td>\n",
       "      <td>48</td>\n",
       "      <td>30.46</td>\n",
       "      <td>59</td>\n",
       "      <td>177.39</td>\n",
       "      <td>5.62</td>\n",
       "    </tr>\n",
       "    <tr>\n",
       "      <td>1</td>\n",
       "      <td>1475229023</td>\n",
       "      <td>9/29/2016 12:00:00 AM</td>\n",
       "      <td>23:50:23</td>\n",
       "      <td>1.21</td>\n",
       "      <td>48</td>\n",
       "      <td>30.46</td>\n",
       "      <td>58</td>\n",
       "      <td>176.78</td>\n",
       "      <td>3.37</td>\n",
       "    </tr>\n",
       "    <tr>\n",
       "      <td>2</td>\n",
       "      <td>1475228726</td>\n",
       "      <td>9/29/2016 12:00:00 AM</td>\n",
       "      <td>23:45:26</td>\n",
       "      <td>1.23</td>\n",
       "      <td>48</td>\n",
       "      <td>30.46</td>\n",
       "      <td>57</td>\n",
       "      <td>158.75</td>\n",
       "      <td>3.37</td>\n",
       "    </tr>\n",
       "    <tr>\n",
       "      <td>3</td>\n",
       "      <td>1475228421</td>\n",
       "      <td>9/29/2016 12:00:00 AM</td>\n",
       "      <td>23:40:21</td>\n",
       "      <td>1.21</td>\n",
       "      <td>48</td>\n",
       "      <td>30.46</td>\n",
       "      <td>60</td>\n",
       "      <td>137.71</td>\n",
       "      <td>3.37</td>\n",
       "    </tr>\n",
       "    <tr>\n",
       "      <td>4</td>\n",
       "      <td>1475228124</td>\n",
       "      <td>9/29/2016 12:00:00 AM</td>\n",
       "      <td>23:35:24</td>\n",
       "      <td>1.17</td>\n",
       "      <td>48</td>\n",
       "      <td>30.46</td>\n",
       "      <td>62</td>\n",
       "      <td>104.95</td>\n",
       "      <td>5.62</td>\n",
       "    </tr>\n",
       "  </tbody>\n",
       "</table>\n",
       "</div>"
      ],
      "text/plain": [
       "     UNIXTime                   Data      Time  Radiation  Temperature  \\\n",
       "0  1475229326  9/29/2016 12:00:00 AM  23:55:26       1.21           48   \n",
       "1  1475229023  9/29/2016 12:00:00 AM  23:50:23       1.21           48   \n",
       "2  1475228726  9/29/2016 12:00:00 AM  23:45:26       1.23           48   \n",
       "3  1475228421  9/29/2016 12:00:00 AM  23:40:21       1.21           48   \n",
       "4  1475228124  9/29/2016 12:00:00 AM  23:35:24       1.17           48   \n",
       "\n",
       "   Pressure  Humidity  WindDirection(Degrees)  Speed  \n",
       "0     30.46        59                  177.39   5.62  \n",
       "1     30.46        58                  176.78   3.37  \n",
       "2     30.46        57                  158.75   3.37  \n",
       "3     30.46        60                  137.71   3.37  \n",
       "4     30.46        62                  104.95   5.62  "
      ]
     },
     "execution_count": 3,
     "metadata": {},
     "output_type": "execute_result"
    }
   ],
   "source": [
    "#Filtrando colunas que serão relevantes para futura análise:\n",
    "dados = raw_data.loc[:,['UNIXTime','Data','Time','Radiation','Temperature','Pressure','Humidity','WindDirection(Degrees)','Speed']]\n",
    "dados.head(5)"
   ]
  },
  {
   "cell_type": "code",
   "execution_count": 4,
   "metadata": {},
   "outputs": [],
   "source": [
    "#Aplicando funções de filtro e definindo funções auxiliáres:\n",
    "\n",
    "def cleanup(text):\n",
    "    punctuation = '[/]' \n",
    "    frase = '12:00:00 AM'\n",
    "    \n",
    "    pattern = re.compile(punctuation)\n",
    "    pattern2 = re.compile(frase)\n",
    "    \n",
    "    text_subbed = re.sub(pattern, '-', text)\n",
    "    text_subbed = re.sub(pattern2, '', text)\n",
    "    \n",
    "    return text_subbed\n",
    "\n",
    "def converte_temp(temp):\n",
    "    graus = ((temp-32)*5)/9\n",
    "    return graus\n",
    "\n",
    "def calcula_radiacao(df):\n",
    "    return df.loc[:, [\"Mes\", \"Radiacao\"]].groupby(by=\"Mes\").mean()\n",
    "\n",
    "def milhas_km(veloc):\n",
    "    vel = veloc*1.609\n",
    "    return vel\n",
    "\n",
    "def hg_atm(hg):\n",
    "    atm = hg/29,921\n",
    "    return atm\n"
   ]
  },
  {
   "cell_type": "code",
   "execution_count": 5,
   "metadata": {},
   "outputs": [],
   "source": [
    "#Aplicando filtro, somente (Trocando '/' por '-' para usar propriedades da biblioteca pandas).\n",
    "dados.Data = dados.Data.apply(cleanup)"
   ]
  },
  {
   "cell_type": "code",
   "execution_count": 6,
   "metadata": {},
   "outputs": [
    {
     "data": {
      "text/plain": [
       "32681    12/1/2016 \n",
       "32682    12/1/2016 \n",
       "32683    12/1/2016 \n",
       "32684    12/1/2016 \n",
       "32685    12/1/2016 \n",
       "Name: Data, dtype: object"
      ]
     },
     "execution_count": 6,
     "metadata": {},
     "output_type": "execute_result"
    }
   ],
   "source": [
    "dados.Data.tail()"
   ]
  },
  {
   "cell_type": "code",
   "execution_count": 7,
   "metadata": {},
   "outputs": [
    {
     "data": {
      "text/plain": [
       "Timestamp('2016-12-01 00:00:00')"
      ]
     },
     "execution_count": 7,
     "metadata": {},
     "output_type": "execute_result"
    }
   ],
   "source": [
    "pd.to_datetime(\"12/1/2016\", format=\"%m/%d/%Y\")"
   ]
  },
  {
   "cell_type": "code",
   "execution_count": 32,
   "metadata": {},
   "outputs": [
    {
     "data": {
      "text/html": [
       "<div>\n",
       "<style scoped>\n",
       "    .dataframe tbody tr th:only-of-type {\n",
       "        vertical-align: middle;\n",
       "    }\n",
       "\n",
       "    .dataframe tbody tr th {\n",
       "        vertical-align: top;\n",
       "    }\n",
       "\n",
       "    .dataframe thead th {\n",
       "        text-align: right;\n",
       "    }\n",
       "</style>\n",
       "<table border=\"1\" class=\"dataframe\">\n",
       "  <thead>\n",
       "    <tr style=\"text-align: right;\">\n",
       "      <th></th>\n",
       "      <th>UNIXTime</th>\n",
       "      <th>Data</th>\n",
       "      <th>Time</th>\n",
       "      <th>Radiation</th>\n",
       "      <th>Temperature</th>\n",
       "      <th>Pressure</th>\n",
       "      <th>Humidity</th>\n",
       "      <th>WindDirection(Degrees)</th>\n",
       "      <th>Speed</th>\n",
       "      <th>Year</th>\n",
       "      <th>Month</th>\n",
       "      <th>Day</th>\n",
       "    </tr>\n",
       "  </thead>\n",
       "  <tbody>\n",
       "    <tr>\n",
       "      <td>0</td>\n",
       "      <td>1475229326</td>\n",
       "      <td>2016-09-29</td>\n",
       "      <td>23:55:26</td>\n",
       "      <td>1.21</td>\n",
       "      <td>48</td>\n",
       "      <td>30.46</td>\n",
       "      <td>59</td>\n",
       "      <td>177.39</td>\n",
       "      <td>5.62</td>\n",
       "      <td>2016</td>\n",
       "      <td>9</td>\n",
       "      <td>29</td>\n",
       "    </tr>\n",
       "    <tr>\n",
       "      <td>1</td>\n",
       "      <td>1475229023</td>\n",
       "      <td>2016-09-29</td>\n",
       "      <td>23:50:23</td>\n",
       "      <td>1.21</td>\n",
       "      <td>48</td>\n",
       "      <td>30.46</td>\n",
       "      <td>58</td>\n",
       "      <td>176.78</td>\n",
       "      <td>3.37</td>\n",
       "      <td>2016</td>\n",
       "      <td>9</td>\n",
       "      <td>29</td>\n",
       "    </tr>\n",
       "    <tr>\n",
       "      <td>2</td>\n",
       "      <td>1475228726</td>\n",
       "      <td>2016-09-29</td>\n",
       "      <td>23:45:26</td>\n",
       "      <td>1.23</td>\n",
       "      <td>48</td>\n",
       "      <td>30.46</td>\n",
       "      <td>57</td>\n",
       "      <td>158.75</td>\n",
       "      <td>3.37</td>\n",
       "      <td>2016</td>\n",
       "      <td>9</td>\n",
       "      <td>29</td>\n",
       "    </tr>\n",
       "    <tr>\n",
       "      <td>3</td>\n",
       "      <td>1475228421</td>\n",
       "      <td>2016-09-29</td>\n",
       "      <td>23:40:21</td>\n",
       "      <td>1.21</td>\n",
       "      <td>48</td>\n",
       "      <td>30.46</td>\n",
       "      <td>60</td>\n",
       "      <td>137.71</td>\n",
       "      <td>3.37</td>\n",
       "      <td>2016</td>\n",
       "      <td>9</td>\n",
       "      <td>29</td>\n",
       "    </tr>\n",
       "    <tr>\n",
       "      <td>4</td>\n",
       "      <td>1475228124</td>\n",
       "      <td>2016-09-29</td>\n",
       "      <td>23:35:24</td>\n",
       "      <td>1.17</td>\n",
       "      <td>48</td>\n",
       "      <td>30.46</td>\n",
       "      <td>62</td>\n",
       "      <td>104.95</td>\n",
       "      <td>5.62</td>\n",
       "      <td>2016</td>\n",
       "      <td>9</td>\n",
       "      <td>29</td>\n",
       "    </tr>\n",
       "  </tbody>\n",
       "</table>\n",
       "</div>"
      ],
      "text/plain": [
       "     UNIXTime       Data      Time  Radiation  Temperature  Pressure  \\\n",
       "0  1475229326 2016-09-29  23:55:26       1.21           48     30.46   \n",
       "1  1475229023 2016-09-29  23:50:23       1.21           48     30.46   \n",
       "2  1475228726 2016-09-29  23:45:26       1.23           48     30.46   \n",
       "3  1475228421 2016-09-29  23:40:21       1.21           48     30.46   \n",
       "4  1475228124 2016-09-29  23:35:24       1.17           48     30.46   \n",
       "\n",
       "   Humidity  WindDirection(Degrees)  Speed  Year  Month  Day  \n",
       "0        59                  177.39   5.62  2016      9   29  \n",
       "1        58                  176.78   3.37  2016      9   29  \n",
       "2        57                  158.75   3.37  2016      9   29  \n",
       "3        60                  137.71   3.37  2016      9   29  \n",
       "4        62                  104.95   5.62  2016      9   29  "
      ]
     },
     "execution_count": 32,
     "metadata": {},
     "output_type": "execute_result"
    }
   ],
   "source": [
    "#Organizando Data (repare que invertemos a ordem, agora está ano-mes-dia)\n",
    "dados.Data = pd.to_datetime(dados.Data, yearfirst=True)\n",
    "dados.head(5)"
   ]
  },
  {
   "cell_type": "code",
   "execution_count": 9,
   "metadata": {},
   "outputs": [
    {
     "data": {
      "text/html": [
       "<div>\n",
       "<style scoped>\n",
       "    .dataframe tbody tr th:only-of-type {\n",
       "        vertical-align: middle;\n",
       "    }\n",
       "\n",
       "    .dataframe tbody tr th {\n",
       "        vertical-align: top;\n",
       "    }\n",
       "\n",
       "    .dataframe thead th {\n",
       "        text-align: right;\n",
       "    }\n",
       "</style>\n",
       "<table border=\"1\" class=\"dataframe\">\n",
       "  <thead>\n",
       "    <tr style=\"text-align: right;\">\n",
       "      <th></th>\n",
       "      <th>Day</th>\n",
       "      <th>Month</th>\n",
       "      <th>Year</th>\n",
       "      <th>Time</th>\n",
       "      <th>Radiation</th>\n",
       "      <th>Temperature</th>\n",
       "      <th>Pressure</th>\n",
       "      <th>Humidity</th>\n",
       "      <th>WindDirection(Degrees)</th>\n",
       "      <th>Speed</th>\n",
       "    </tr>\n",
       "  </thead>\n",
       "  <tbody>\n",
       "    <tr>\n",
       "      <td>0</td>\n",
       "      <td>29</td>\n",
       "      <td>9</td>\n",
       "      <td>2016</td>\n",
       "      <td>23:55:26</td>\n",
       "      <td>1.21</td>\n",
       "      <td>48</td>\n",
       "      <td>30.46</td>\n",
       "      <td>59</td>\n",
       "      <td>177.39</td>\n",
       "      <td>5.62</td>\n",
       "    </tr>\n",
       "    <tr>\n",
       "      <td>1</td>\n",
       "      <td>29</td>\n",
       "      <td>9</td>\n",
       "      <td>2016</td>\n",
       "      <td>23:50:23</td>\n",
       "      <td>1.21</td>\n",
       "      <td>48</td>\n",
       "      <td>30.46</td>\n",
       "      <td>58</td>\n",
       "      <td>176.78</td>\n",
       "      <td>3.37</td>\n",
       "    </tr>\n",
       "    <tr>\n",
       "      <td>2</td>\n",
       "      <td>29</td>\n",
       "      <td>9</td>\n",
       "      <td>2016</td>\n",
       "      <td>23:45:26</td>\n",
       "      <td>1.23</td>\n",
       "      <td>48</td>\n",
       "      <td>30.46</td>\n",
       "      <td>57</td>\n",
       "      <td>158.75</td>\n",
       "      <td>3.37</td>\n",
       "    </tr>\n",
       "    <tr>\n",
       "      <td>3</td>\n",
       "      <td>29</td>\n",
       "      <td>9</td>\n",
       "      <td>2016</td>\n",
       "      <td>23:40:21</td>\n",
       "      <td>1.21</td>\n",
       "      <td>48</td>\n",
       "      <td>30.46</td>\n",
       "      <td>60</td>\n",
       "      <td>137.71</td>\n",
       "      <td>3.37</td>\n",
       "    </tr>\n",
       "    <tr>\n",
       "      <td>4</td>\n",
       "      <td>29</td>\n",
       "      <td>9</td>\n",
       "      <td>2016</td>\n",
       "      <td>23:35:24</td>\n",
       "      <td>1.17</td>\n",
       "      <td>48</td>\n",
       "      <td>30.46</td>\n",
       "      <td>62</td>\n",
       "      <td>104.95</td>\n",
       "      <td>5.62</td>\n",
       "    </tr>\n",
       "  </tbody>\n",
       "</table>\n",
       "</div>"
      ],
      "text/plain": [
       "   Day  Month  Year      Time  Radiation  Temperature  Pressure  Humidity  \\\n",
       "0   29      9  2016  23:55:26       1.21           48     30.46        59   \n",
       "1   29      9  2016  23:50:23       1.21           48     30.46        58   \n",
       "2   29      9  2016  23:45:26       1.23           48     30.46        57   \n",
       "3   29      9  2016  23:40:21       1.21           48     30.46        60   \n",
       "4   29      9  2016  23:35:24       1.17           48     30.46        62   \n",
       "\n",
       "   WindDirection(Degrees)  Speed  \n",
       "0                  177.39   5.62  \n",
       "1                  176.78   3.37  \n",
       "2                  158.75   3.37  \n",
       "3                  137.71   3.37  \n",
       "4                  104.95   5.62  "
      ]
     },
     "execution_count": 9,
     "metadata": {},
     "output_type": "execute_result"
    }
   ],
   "source": [
    "#Adicionando colunas de tempo para o dataframe\n",
    "dados['Year'] = dados['Data'].dt.year\n",
    "dados['Month'] = dados['Data'].dt.month\n",
    "dados['Day'] = dados['Data'].dt.day\n",
    "\n",
    "#Apagando a coluna Data, já que separamos ela\n",
    "dados_novo = dados.loc[:,['Day','Month','Year','Time','Radiation','Temperature','Pressure',\n",
    "                          'Humidity','WindDirection(Degrees)','Speed']]\n",
    "\n",
    "dados_novo.head(5)"
   ]
  },
  {
   "cell_type": "code",
   "execution_count": 10,
   "metadata": {},
   "outputs": [],
   "source": [
    "#Realizados os ajustes, como estamos no Brasil, vamos traduzir e mudar unidades, visando a familiaridade.\n",
    "\n",
    "dados_novo = dados_novo.rename(columns={\"Day\": \"Dia\", \"Month\": \"Mes\", \"Year\":\"Ano\", \"Time\":\"Hora\", \n",
    "                                        \"Radiation\":\"Radiacao\", \"Temperature\":\"Temperatura\", \n",
    "                                        \"Pressure\":\"Pressao\", \"Humidity\":\"Umidade\", \"WindDirection(Degrees)\":\"DirVento\",\n",
    "                                        \"Speed\":\"VelocidadeVento\"})"
   ]
  },
  {
   "cell_type": "code",
   "execution_count": 37,
   "metadata": {},
   "outputs": [
    {
     "data": {
      "text/html": [
       "<div>\n",
       "<style scoped>\n",
       "    .dataframe tbody tr th:only-of-type {\n",
       "        vertical-align: middle;\n",
       "    }\n",
       "\n",
       "    .dataframe tbody tr th {\n",
       "        vertical-align: top;\n",
       "    }\n",
       "\n",
       "    .dataframe thead th {\n",
       "        text-align: right;\n",
       "    }\n",
       "</style>\n",
       "<table border=\"1\" class=\"dataframe\">\n",
       "  <thead>\n",
       "    <tr style=\"text-align: right;\">\n",
       "      <th></th>\n",
       "      <th>Dia</th>\n",
       "      <th>Mes</th>\n",
       "      <th>Ano</th>\n",
       "      <th>Hora</th>\n",
       "      <th>Radiacao</th>\n",
       "      <th>Temperatura</th>\n",
       "      <th>Pressao</th>\n",
       "      <th>Umidade</th>\n",
       "      <th>DirVento</th>\n",
       "      <th>VelocidadeVento</th>\n",
       "      <th>TempGraus</th>\n",
       "      <th>Velocidade</th>\n",
       "      <th>Pressao(atm)</th>\n",
       "    </tr>\n",
       "  </thead>\n",
       "  <tbody>\n",
       "    <tr>\n",
       "      <td>0</td>\n",
       "      <td>29</td>\n",
       "      <td>9</td>\n",
       "      <td>2016</td>\n",
       "      <td>23:55:26</td>\n",
       "      <td>1.21</td>\n",
       "      <td>48</td>\n",
       "      <td>30.46</td>\n",
       "      <td>59</td>\n",
       "      <td>177.39</td>\n",
       "      <td>5.62</td>\n",
       "      <td>8.888889</td>\n",
       "      <td>9.04258</td>\n",
       "      <td>(1.0503448275862068, 921)</td>\n",
       "    </tr>\n",
       "    <tr>\n",
       "      <td>1</td>\n",
       "      <td>29</td>\n",
       "      <td>9</td>\n",
       "      <td>2016</td>\n",
       "      <td>23:50:23</td>\n",
       "      <td>1.21</td>\n",
       "      <td>48</td>\n",
       "      <td>30.46</td>\n",
       "      <td>58</td>\n",
       "      <td>176.78</td>\n",
       "      <td>3.37</td>\n",
       "      <td>8.888889</td>\n",
       "      <td>5.42233</td>\n",
       "      <td>(1.0503448275862068, 921)</td>\n",
       "    </tr>\n",
       "    <tr>\n",
       "      <td>2</td>\n",
       "      <td>29</td>\n",
       "      <td>9</td>\n",
       "      <td>2016</td>\n",
       "      <td>23:45:26</td>\n",
       "      <td>1.23</td>\n",
       "      <td>48</td>\n",
       "      <td>30.46</td>\n",
       "      <td>57</td>\n",
       "      <td>158.75</td>\n",
       "      <td>3.37</td>\n",
       "      <td>8.888889</td>\n",
       "      <td>5.42233</td>\n",
       "      <td>(1.0503448275862068, 921)</td>\n",
       "    </tr>\n",
       "    <tr>\n",
       "      <td>3</td>\n",
       "      <td>29</td>\n",
       "      <td>9</td>\n",
       "      <td>2016</td>\n",
       "      <td>23:40:21</td>\n",
       "      <td>1.21</td>\n",
       "      <td>48</td>\n",
       "      <td>30.46</td>\n",
       "      <td>60</td>\n",
       "      <td>137.71</td>\n",
       "      <td>3.37</td>\n",
       "      <td>8.888889</td>\n",
       "      <td>5.42233</td>\n",
       "      <td>(1.0503448275862068, 921)</td>\n",
       "    </tr>\n",
       "    <tr>\n",
       "      <td>4</td>\n",
       "      <td>29</td>\n",
       "      <td>9</td>\n",
       "      <td>2016</td>\n",
       "      <td>23:35:24</td>\n",
       "      <td>1.17</td>\n",
       "      <td>48</td>\n",
       "      <td>30.46</td>\n",
       "      <td>62</td>\n",
       "      <td>104.95</td>\n",
       "      <td>5.62</td>\n",
       "      <td>8.888889</td>\n",
       "      <td>9.04258</td>\n",
       "      <td>(1.0503448275862068, 921)</td>\n",
       "    </tr>\n",
       "  </tbody>\n",
       "</table>\n",
       "</div>"
      ],
      "text/plain": [
       "   Dia  Mes   Ano      Hora  Radiacao  Temperatura  Pressao  Umidade  \\\n",
       "0   29    9  2016  23:55:26      1.21           48    30.46       59   \n",
       "1   29    9  2016  23:50:23      1.21           48    30.46       58   \n",
       "2   29    9  2016  23:45:26      1.23           48    30.46       57   \n",
       "3   29    9  2016  23:40:21      1.21           48    30.46       60   \n",
       "4   29    9  2016  23:35:24      1.17           48    30.46       62   \n",
       "\n",
       "   DirVento  VelocidadeVento  TempGraus  Velocidade               Pressao(atm)  \n",
       "0    177.39             5.62   8.888889     9.04258  (1.0503448275862068, 921)  \n",
       "1    176.78             3.37   8.888889     5.42233  (1.0503448275862068, 921)  \n",
       "2    158.75             3.37   8.888889     5.42233  (1.0503448275862068, 921)  \n",
       "3    137.71             3.37   8.888889     5.42233  (1.0503448275862068, 921)  \n",
       "4    104.95             5.62   8.888889     9.04258  (1.0503448275862068, 921)  "
      ]
     },
     "execution_count": 37,
     "metadata": {},
     "output_type": "execute_result"
    }
   ],
   "source": [
    "#Aplicando mudanças de unidades:\n",
    "\n",
    "#Fahrenheit para Graus\n",
    "dados_novo[\"TempGraus\"] = dados_novo.Temperatura.apply(converte_temp)\n",
    "\n",
    "#Milhas por hora para km/h\n",
    "dados_novo[\"Velocidade\"] = dados_novo.VelocidadeVento.apply(milhas_km)\n",
    "\n",
    "#Hg para atm\n",
    "dados_novo[\"Pressao(atm)\"] = dados_novo.Pressao.apply(hg_atm)\n",
    "\n",
    "dados_novo.head(5)"
   ]
  },
  {
   "cell_type": "code",
   "execution_count": 12,
   "metadata": {},
   "outputs": [
    {
     "data": {
      "text/html": [
       "<div>\n",
       "<style scoped>\n",
       "    .dataframe tbody tr th:only-of-type {\n",
       "        vertical-align: middle;\n",
       "    }\n",
       "\n",
       "    .dataframe tbody tr th {\n",
       "        vertical-align: top;\n",
       "    }\n",
       "\n",
       "    .dataframe thead th {\n",
       "        text-align: right;\n",
       "    }\n",
       "</style>\n",
       "<table border=\"1\" class=\"dataframe\">\n",
       "  <thead>\n",
       "    <tr style=\"text-align: right;\">\n",
       "      <th></th>\n",
       "      <th>Dia</th>\n",
       "      <th>Mes</th>\n",
       "      <th>Ano</th>\n",
       "      <th>Hora</th>\n",
       "      <th>Radiacao</th>\n",
       "      <th>TempGraus</th>\n",
       "      <th>Pressao(atm)</th>\n",
       "      <th>Umidade</th>\n",
       "      <th>DirVento</th>\n",
       "      <th>Velocidade</th>\n",
       "    </tr>\n",
       "  </thead>\n",
       "  <tbody>\n",
       "    <tr>\n",
       "      <td>0</td>\n",
       "      <td>29</td>\n",
       "      <td>9</td>\n",
       "      <td>2016</td>\n",
       "      <td>23:55:26</td>\n",
       "      <td>1.21</td>\n",
       "      <td>8.888889</td>\n",
       "      <td>(1.0503448275862068, 921)</td>\n",
       "      <td>59</td>\n",
       "      <td>177.39</td>\n",
       "      <td>9.04258</td>\n",
       "    </tr>\n",
       "    <tr>\n",
       "      <td>1</td>\n",
       "      <td>29</td>\n",
       "      <td>9</td>\n",
       "      <td>2016</td>\n",
       "      <td>23:50:23</td>\n",
       "      <td>1.21</td>\n",
       "      <td>8.888889</td>\n",
       "      <td>(1.0503448275862068, 921)</td>\n",
       "      <td>58</td>\n",
       "      <td>176.78</td>\n",
       "      <td>5.42233</td>\n",
       "    </tr>\n",
       "    <tr>\n",
       "      <td>2</td>\n",
       "      <td>29</td>\n",
       "      <td>9</td>\n",
       "      <td>2016</td>\n",
       "      <td>23:45:26</td>\n",
       "      <td>1.23</td>\n",
       "      <td>8.888889</td>\n",
       "      <td>(1.0503448275862068, 921)</td>\n",
       "      <td>57</td>\n",
       "      <td>158.75</td>\n",
       "      <td>5.42233</td>\n",
       "    </tr>\n",
       "    <tr>\n",
       "      <td>3</td>\n",
       "      <td>29</td>\n",
       "      <td>9</td>\n",
       "      <td>2016</td>\n",
       "      <td>23:40:21</td>\n",
       "      <td>1.21</td>\n",
       "      <td>8.888889</td>\n",
       "      <td>(1.0503448275862068, 921)</td>\n",
       "      <td>60</td>\n",
       "      <td>137.71</td>\n",
       "      <td>5.42233</td>\n",
       "    </tr>\n",
       "    <tr>\n",
       "      <td>4</td>\n",
       "      <td>29</td>\n",
       "      <td>9</td>\n",
       "      <td>2016</td>\n",
       "      <td>23:35:24</td>\n",
       "      <td>1.17</td>\n",
       "      <td>8.888889</td>\n",
       "      <td>(1.0503448275862068, 921)</td>\n",
       "      <td>62</td>\n",
       "      <td>104.95</td>\n",
       "      <td>9.04258</td>\n",
       "    </tr>\n",
       "  </tbody>\n",
       "</table>\n",
       "</div>"
      ],
      "text/plain": [
       "   Dia  Mes   Ano      Hora  Radiacao  TempGraus               Pressao(atm)  \\\n",
       "0   29    9  2016  23:55:26      1.21   8.888889  (1.0503448275862068, 921)   \n",
       "1   29    9  2016  23:50:23      1.21   8.888889  (1.0503448275862068, 921)   \n",
       "2   29    9  2016  23:45:26      1.23   8.888889  (1.0503448275862068, 921)   \n",
       "3   29    9  2016  23:40:21      1.21   8.888889  (1.0503448275862068, 921)   \n",
       "4   29    9  2016  23:35:24      1.17   8.888889  (1.0503448275862068, 921)   \n",
       "\n",
       "   Umidade  DirVento  Velocidade  \n",
       "0       59    177.39     9.04258  \n",
       "1       58    176.78     5.42233  \n",
       "2       57    158.75     5.42233  \n",
       "3       60    137.71     5.42233  \n",
       "4       62    104.95     9.04258  "
      ]
     },
     "execution_count": 12,
     "metadata": {},
     "output_type": "execute_result"
    }
   ],
   "source": [
    "#Realizando nova filtragem e organizando:\n",
    "dataframe = dados_novo.loc[:,['Dia','Mes','Ano','Hora','Radiacao','TempGraus',\n",
    "                        'Pressao(atm)','Umidade','DirVento','Velocidade']]\n",
    "dataframe.head(5)"
   ]
  },
  {
   "cell_type": "markdown",
   "metadata": {},
   "source": [
    "### ❑ Descrição de variáveis e análise descritiva:"
   ]
  },
  {
   "cell_type": "markdown",
   "metadata": {},
   "source": [
    "▶ As unidades das colunas de cada dataset são:\n",
    "\n",
    "\n",
    "Variável | Descrição\n",
    ":---:|---:\n",
    "Radiação Solar | Unidade: $W/m^2$\n",
    "Temperatura| Temperatura do ar (°C)\n",
    "Pressao | Pressão Atmosférica (atm)\n",
    "Umidade | Umidade Relativa do ar (%)\n",
    "Direcao do Vento | Medido em Graus (°)\n",
    "Velocidade do Vento | Medido em (km/h)"
   ]
  },
  {
   "cell_type": "code",
   "execution_count": 13,
   "metadata": {},
   "outputs": [
    {
     "data": {
      "text/html": [
       "<div>\n",
       "<style scoped>\n",
       "    .dataframe tbody tr th:only-of-type {\n",
       "        vertical-align: middle;\n",
       "    }\n",
       "\n",
       "    .dataframe tbody tr th {\n",
       "        vertical-align: top;\n",
       "    }\n",
       "\n",
       "    .dataframe thead th {\n",
       "        text-align: right;\n",
       "    }\n",
       "</style>\n",
       "<table border=\"1\" class=\"dataframe\">\n",
       "  <thead>\n",
       "    <tr style=\"text-align: right;\">\n",
       "      <th></th>\n",
       "      <th>Dia</th>\n",
       "      <th>Mes</th>\n",
       "      <th>Ano</th>\n",
       "      <th>Radiacao</th>\n",
       "      <th>TempGraus</th>\n",
       "      <th>Umidade</th>\n",
       "      <th>DirVento</th>\n",
       "      <th>Velocidade</th>\n",
       "    </tr>\n",
       "  </thead>\n",
       "  <tbody>\n",
       "    <tr>\n",
       "      <td>count</td>\n",
       "      <td>32686.000000</td>\n",
       "      <td>32686.000000</td>\n",
       "      <td>32686.0</td>\n",
       "      <td>32686.000000</td>\n",
       "      <td>32686.000000</td>\n",
       "      <td>32686.000000</td>\n",
       "      <td>32686.000000</td>\n",
       "      <td>32686.000000</td>\n",
       "    </tr>\n",
       "    <tr>\n",
       "      <td>mean</td>\n",
       "      <td>15.825766</td>\n",
       "      <td>10.526066</td>\n",
       "      <td>2016.0</td>\n",
       "      <td>207.124697</td>\n",
       "      <td>10.612920</td>\n",
       "      <td>75.016307</td>\n",
       "      <td>143.489821</td>\n",
       "      <td>10.046386</td>\n",
       "    </tr>\n",
       "    <tr>\n",
       "      <td>std</td>\n",
       "      <td>8.711824</td>\n",
       "      <td>1.096691</td>\n",
       "      <td>0.0</td>\n",
       "      <td>315.916387</td>\n",
       "      <td>3.445087</td>\n",
       "      <td>25.990219</td>\n",
       "      <td>83.167500</td>\n",
       "      <td>5.616172</td>\n",
       "    </tr>\n",
       "    <tr>\n",
       "      <td>min</td>\n",
       "      <td>1.000000</td>\n",
       "      <td>9.000000</td>\n",
       "      <td>2016.0</td>\n",
       "      <td>1.110000</td>\n",
       "      <td>1.111111</td>\n",
       "      <td>8.000000</td>\n",
       "      <td>0.090000</td>\n",
       "      <td>0.000000</td>\n",
       "    </tr>\n",
       "    <tr>\n",
       "      <td>25%</td>\n",
       "      <td>9.000000</td>\n",
       "      <td>10.000000</td>\n",
       "      <td>2016.0</td>\n",
       "      <td>1.230000</td>\n",
       "      <td>7.777778</td>\n",
       "      <td>56.000000</td>\n",
       "      <td>82.227500</td>\n",
       "      <td>5.422330</td>\n",
       "    </tr>\n",
       "    <tr>\n",
       "      <td>50%</td>\n",
       "      <td>16.000000</td>\n",
       "      <td>11.000000</td>\n",
       "      <td>2016.0</td>\n",
       "      <td>2.660000</td>\n",
       "      <td>10.000000</td>\n",
       "      <td>85.000000</td>\n",
       "      <td>147.700000</td>\n",
       "      <td>9.042580</td>\n",
       "    </tr>\n",
       "    <tr>\n",
       "      <td>75%</td>\n",
       "      <td>23.000000</td>\n",
       "      <td>11.000000</td>\n",
       "      <td>2016.0</td>\n",
       "      <td>354.235000</td>\n",
       "      <td>12.777778</td>\n",
       "      <td>97.000000</td>\n",
       "      <td>179.310000</td>\n",
       "      <td>12.662830</td>\n",
       "    </tr>\n",
       "    <tr>\n",
       "      <td>max</td>\n",
       "      <td>31.000000</td>\n",
       "      <td>12.000000</td>\n",
       "      <td>2016.0</td>\n",
       "      <td>1601.260000</td>\n",
       "      <td>21.666667</td>\n",
       "      <td>103.000000</td>\n",
       "      <td>359.950000</td>\n",
       "      <td>65.164500</td>\n",
       "    </tr>\n",
       "  </tbody>\n",
       "</table>\n",
       "</div>"
      ],
      "text/plain": [
       "                Dia           Mes      Ano      Radiacao     TempGraus  \\\n",
       "count  32686.000000  32686.000000  32686.0  32686.000000  32686.000000   \n",
       "mean      15.825766     10.526066   2016.0    207.124697     10.612920   \n",
       "std        8.711824      1.096691      0.0    315.916387      3.445087   \n",
       "min        1.000000      9.000000   2016.0      1.110000      1.111111   \n",
       "25%        9.000000     10.000000   2016.0      1.230000      7.777778   \n",
       "50%       16.000000     11.000000   2016.0      2.660000     10.000000   \n",
       "75%       23.000000     11.000000   2016.0    354.235000     12.777778   \n",
       "max       31.000000     12.000000   2016.0   1601.260000     21.666667   \n",
       "\n",
       "            Umidade      DirVento    Velocidade  \n",
       "count  32686.000000  32686.000000  32686.000000  \n",
       "mean      75.016307    143.489821     10.046386  \n",
       "std       25.990219     83.167500      5.616172  \n",
       "min        8.000000      0.090000      0.000000  \n",
       "25%       56.000000     82.227500      5.422330  \n",
       "50%       85.000000    147.700000      9.042580  \n",
       "75%       97.000000    179.310000     12.662830  \n",
       "max      103.000000    359.950000     65.164500  "
      ]
     },
     "execution_count": 13,
     "metadata": {},
     "output_type": "execute_result"
    }
   ],
   "source": [
    "#Visão geral:\n",
    "dataframe.describe()"
   ]
  },
  {
   "cell_type": "code",
   "execution_count": 14,
   "metadata": {},
   "outputs": [
    {
     "data": {
      "text/plain": [
       "(9, 12)"
      ]
     },
     "execution_count": 14,
     "metadata": {},
     "output_type": "execute_result"
    }
   ],
   "source": [
    "#Contando meses (São quatro meses): \n",
    "dataframe.Mes.min(), dataframe.Mes.max()"
   ]
  },
  {
   "cell_type": "code",
   "execution_count": 15,
   "metadata": {},
   "outputs": [
    {
     "data": {
      "text/html": [
       "<div>\n",
       "<style scoped>\n",
       "    .dataframe tbody tr th:only-of-type {\n",
       "        vertical-align: middle;\n",
       "    }\n",
       "\n",
       "    .dataframe tbody tr th {\n",
       "        vertical-align: top;\n",
       "    }\n",
       "\n",
       "    .dataframe thead th {\n",
       "        text-align: right;\n",
       "    }\n",
       "</style>\n",
       "<table border=\"1\" class=\"dataframe\">\n",
       "  <thead>\n",
       "    <tr style=\"text-align: right;\">\n",
       "      <th></th>\n",
       "      <th>Radiacao</th>\n",
       "    </tr>\n",
       "    <tr>\n",
       "      <th>Mes</th>\n",
       "      <th></th>\n",
       "    </tr>\n",
       "  </thead>\n",
       "  <tbody>\n",
       "    <tr>\n",
       "      <td>9</td>\n",
       "      <td>229.804828</td>\n",
       "    </tr>\n",
       "    <tr>\n",
       "      <td>10</td>\n",
       "      <td>230.582292</td>\n",
       "    </tr>\n",
       "    <tr>\n",
       "      <td>11</td>\n",
       "      <td>226.727750</td>\n",
       "    </tr>\n",
       "    <tr>\n",
       "      <td>12</td>\n",
       "      <td>141.283240</td>\n",
       "    </tr>\n",
       "  </tbody>\n",
       "</table>\n",
       "</div>"
      ],
      "text/plain": [
       "       Radiacao\n",
       "Mes            \n",
       "9    229.804828\n",
       "10   230.582292\n",
       "11   226.727750\n",
       "12   141.283240"
      ]
     },
     "execution_count": 15,
     "metadata": {},
     "output_type": "execute_result"
    }
   ],
   "source": [
    "lista_rad = calcula_radiacao(dataframe)\n",
    "lista_rad.head(5)"
   ]
  },
  {
   "cell_type": "code",
   "execution_count": 16,
   "metadata": {},
   "outputs": [
    {
     "data": {
      "text/plain": [
       "<Figure size 1008x576 with 0 Axes>"
      ]
     },
     "metadata": {},
     "output_type": "display_data"
    },
    {
     "data": {
      "image/png": "[encoded data removed]",
      "text/plain": [
       "<Figure size 720x432 with 1 Axes>"
      ]
     },
     "metadata": {
      "needs_background": "light"
     },
     "output_type": "display_data"
    }
   ],
   "source": [
    "#Radiação média ao longo dos meses (Setembro até Dezembro)\n",
    "\n",
    "plt.figure(figsize=(14,8))\n",
    "plt.rcParams.update({'font.size': 15})\n",
    "lista_rad.plot(kind='bar', figsize=(10,6), color=\"indigo\", fontsize=13, width=0.4);\n",
    "plt.title(\"Radiação média ao longo dos meses\")\n",
    "plt.xlabel(\"Meses do ano\")\n",
    "plt.ylabel(\"Radiação (W/m²)\")\n",
    "plt.legend()\n",
    "plt.show()\n"
   ]
  },
  {
   "cell_type": "code",
   "execution_count": 39,
   "metadata": {},
   "outputs": [
    {
     "data": {
      "text/html": [
       "<div>\n",
       "<style scoped>\n",
       "    .dataframe tbody tr th:only-of-type {\n",
       "        vertical-align: middle;\n",
       "    }\n",
       "\n",
       "    .dataframe tbody tr th {\n",
       "        vertical-align: top;\n",
       "    }\n",
       "\n",
       "    .dataframe thead th {\n",
       "        text-align: right;\n",
       "    }\n",
       "</style>\n",
       "<table border=\"1\" class=\"dataframe\">\n",
       "  <thead>\n",
       "    <tr style=\"text-align: right;\">\n",
       "      <th></th>\n",
       "      <th>Radiacao</th>\n",
       "      <th>Hora</th>\n",
       "    </tr>\n",
       "  </thead>\n",
       "  <tbody>\n",
       "    <tr>\n",
       "      <td>12849</td>\n",
       "      <td>1.25</td>\n",
       "      <td>23:55:23</td>\n",
       "    </tr>\n",
       "    <tr>\n",
       "      <td>12850</td>\n",
       "      <td>1.25</td>\n",
       "      <td>23:50:21</td>\n",
       "    </tr>\n",
       "    <tr>\n",
       "      <td>12851</td>\n",
       "      <td>1.25</td>\n",
       "      <td>23:45:25</td>\n",
       "    </tr>\n",
       "    <tr>\n",
       "      <td>12852</td>\n",
       "      <td>1.26</td>\n",
       "      <td>23:40:28</td>\n",
       "    </tr>\n",
       "    <tr>\n",
       "      <td>12853</td>\n",
       "      <td>1.23</td>\n",
       "      <td>23:35:22</td>\n",
       "    </tr>\n",
       "  </tbody>\n",
       "</table>\n",
       "</div>"
      ],
      "text/plain": [
       "       Radiacao      Hora\n",
       "12849      1.25  23:55:23\n",
       "12850      1.25  23:50:21\n",
       "12851      1.25  23:45:25\n",
       "12852      1.26  23:40:28\n",
       "12853      1.23  23:35:22"
      ]
     },
     "execution_count": 39,
     "metadata": {},
     "output_type": "execute_result"
    }
   ],
   "source": [
    "#Radiação em um dia \n",
    "filtro_dia = dataframe.loc[:,'Dia'] == 12\n",
    "filtro_mes = dataframe.loc[:,'Mes'] == 10\n",
    "\n",
    "dia = dataframe.loc[filtro_dia & filtro_mes, ['Radiacao','Hora']]\n",
    "dia.head(5)"
   ]
  },
  {
   "cell_type": "code",
   "execution_count": 40,
   "metadata": {},
   "outputs": [
    {
     "data": {
      "text/html": [
       "<div>\n",
       "<style scoped>\n",
       "    .dataframe tbody tr th:only-of-type {\n",
       "        vertical-align: middle;\n",
       "    }\n",
       "\n",
       "    .dataframe tbody tr th {\n",
       "        vertical-align: top;\n",
       "    }\n",
       "\n",
       "    .dataframe thead th {\n",
       "        text-align: right;\n",
       "    }\n",
       "</style>\n",
       "<table border=\"1\" class=\"dataframe\">\n",
       "  <thead>\n",
       "    <tr style=\"text-align: right;\">\n",
       "      <th></th>\n",
       "      <th>Radiacao</th>\n",
       "      <th>Hora</th>\n",
       "    </tr>\n",
       "  </thead>\n",
       "  <tbody>\n",
       "    <tr>\n",
       "      <td>12849</td>\n",
       "      <td>1.25</td>\n",
       "      <td>23:55:23</td>\n",
       "    </tr>\n",
       "    <tr>\n",
       "      <td>12850</td>\n",
       "      <td>1.25</td>\n",
       "      <td>23:50:21</td>\n",
       "    </tr>\n",
       "    <tr>\n",
       "      <td>12851</td>\n",
       "      <td>1.25</td>\n",
       "      <td>23:45:25</td>\n",
       "    </tr>\n",
       "    <tr>\n",
       "      <td>12852</td>\n",
       "      <td>1.26</td>\n",
       "      <td>23:40:28</td>\n",
       "    </tr>\n",
       "    <tr>\n",
       "      <td>12853</td>\n",
       "      <td>1.23</td>\n",
       "      <td>23:35:22</td>\n",
       "    </tr>\n",
       "  </tbody>\n",
       "</table>\n",
       "</div>"
      ],
      "text/plain": [
       "       Radiacao      Hora\n",
       "12849      1.25  23:55:23\n",
       "12850      1.25  23:50:21\n",
       "12851      1.25  23:45:25\n",
       "12852      1.26  23:40:28\n",
       "12853      1.23  23:35:22"
      ]
     },
     "execution_count": 40,
     "metadata": {},
     "output_type": "execute_result"
    }
   ],
   "source": [
    "dia[\"Hora\"] = pd.to_datetime(dia['Hora']).dt.time\n",
    "dia.head(5)"
   ]
  },
  {
   "cell_type": "code",
   "execution_count": 41,
   "metadata": {},
   "outputs": [
    {
     "data": {
      "image/png": "[encoded data removed]",
      "text/plain": [
       "<Figure size 720x360 with 1 Axes>"
      ]
     },
     "metadata": {
      "needs_background": "light"
     },
     "output_type": "display_data"
    }
   ],
   "source": [
    "#Plotando o gráfico:\n",
    "\n",
    "plt.figure(figsize=(10,5))\n",
    "plt.plot(dia.Hora,dia.Radiacao, label='Radiacao', color='indigo', linewidth=2) \n",
    "plt.title(\"Radiação durante um dia\")\n",
    "plt.xlabel(\"Hora do dia\")\n",
    "plt.ylabel(\"Radiação (W/$m^2$)\")\n",
    "plt.legend()\n",
    "plt.tight_layout()\n",
    "plt.show()"
   ]
  },
  {
   "cell_type": "markdown",
   "metadata": {},
   "source": [
    "### ❑ Análises mais gerais dos dados via heatmap:"
   ]
  },
  {
   "cell_type": "code",
   "execution_count": 42,
   "metadata": {},
   "outputs": [
    {
     "data": {
      "text/html": [
       "<div>\n",
       "<style scoped>\n",
       "    .dataframe tbody tr th:only-of-type {\n",
       "        vertical-align: middle;\n",
       "    }\n",
       "\n",
       "    .dataframe tbody tr th {\n",
       "        vertical-align: top;\n",
       "    }\n",
       "\n",
       "    .dataframe thead th {\n",
       "        text-align: right;\n",
       "    }\n",
       "</style>\n",
       "<table border=\"1\" class=\"dataframe\">\n",
       "  <thead>\n",
       "    <tr style=\"text-align: right;\">\n",
       "      <th></th>\n",
       "      <th>Radiacao</th>\n",
       "      <th>Hora</th>\n",
       "      <th>TempGraus</th>\n",
       "      <th>Pressao(atm)</th>\n",
       "      <th>Umidade</th>\n",
       "      <th>DirVento</th>\n",
       "      <th>Velocidade</th>\n",
       "    </tr>\n",
       "  </thead>\n",
       "  <tbody>\n",
       "    <tr>\n",
       "      <td>0</td>\n",
       "      <td>1.21</td>\n",
       "      <td>23:55:26</td>\n",
       "      <td>8.888889</td>\n",
       "      <td>(1.0503448275862068, 921)</td>\n",
       "      <td>59</td>\n",
       "      <td>177.39</td>\n",
       "      <td>9.04258</td>\n",
       "    </tr>\n",
       "    <tr>\n",
       "      <td>1</td>\n",
       "      <td>1.21</td>\n",
       "      <td>23:50:23</td>\n",
       "      <td>8.888889</td>\n",
       "      <td>(1.0503448275862068, 921)</td>\n",
       "      <td>58</td>\n",
       "      <td>176.78</td>\n",
       "      <td>5.42233</td>\n",
       "    </tr>\n",
       "    <tr>\n",
       "      <td>2</td>\n",
       "      <td>1.23</td>\n",
       "      <td>23:45:26</td>\n",
       "      <td>8.888889</td>\n",
       "      <td>(1.0503448275862068, 921)</td>\n",
       "      <td>57</td>\n",
       "      <td>158.75</td>\n",
       "      <td>5.42233</td>\n",
       "    </tr>\n",
       "    <tr>\n",
       "      <td>3</td>\n",
       "      <td>1.21</td>\n",
       "      <td>23:40:21</td>\n",
       "      <td>8.888889</td>\n",
       "      <td>(1.0503448275862068, 921)</td>\n",
       "      <td>60</td>\n",
       "      <td>137.71</td>\n",
       "      <td>5.42233</td>\n",
       "    </tr>\n",
       "    <tr>\n",
       "      <td>4</td>\n",
       "      <td>1.17</td>\n",
       "      <td>23:35:24</td>\n",
       "      <td>8.888889</td>\n",
       "      <td>(1.0503448275862068, 921)</td>\n",
       "      <td>62</td>\n",
       "      <td>104.95</td>\n",
       "      <td>9.04258</td>\n",
       "    </tr>\n",
       "  </tbody>\n",
       "</table>\n",
       "</div>"
      ],
      "text/plain": [
       "   Radiacao      Hora  TempGraus               Pressao(atm)  Umidade  \\\n",
       "0      1.21  23:55:26   8.888889  (1.0503448275862068, 921)       59   \n",
       "1      1.21  23:50:23   8.888889  (1.0503448275862068, 921)       58   \n",
       "2      1.23  23:45:26   8.888889  (1.0503448275862068, 921)       57   \n",
       "3      1.21  23:40:21   8.888889  (1.0503448275862068, 921)       60   \n",
       "4      1.17  23:35:24   8.888889  (1.0503448275862068, 921)       62   \n",
       "\n",
       "   DirVento  Velocidade  \n",
       "0    177.39     9.04258  \n",
       "1    176.78     5.42233  \n",
       "2    158.75     5.42233  \n",
       "3    137.71     5.42233  \n",
       "4    104.95     9.04258  "
      ]
     },
     "execution_count": 42,
     "metadata": {},
     "output_type": "execute_result"
    }
   ],
   "source": [
    "#Fazendo um \"pequeno\" filtro para uma análise melhor dos dados, ou seja, pegando só variáveis quantitativas importantes:\n",
    "heat = dataframe.loc[:,['Radiacao','Hora','TempGraus',\n",
    "                        'Pressao(atm)','Umidade','DirVento','Velocidade']]\n",
    "heat.head(5)"
   ]
  },
  {
   "cell_type": "markdown",
   "metadata": {},
   "source": [
    "#### ▶ Pairplot:"
   ]
  },
  {
   "cell_type": "code",
   "execution_count": 43,
   "metadata": {},
   "outputs": [
    {
     "data": {
      "image/png": "[encoded data removed]",
      "text/plain": [
       "<Figure size 540x540 with 30 Axes>"
      ]
     },
     "metadata": {
      "needs_background": "light"
     },
     "output_type": "display_data"
    }
   ],
   "source": [
    "sns.pairplot(heat, height=1.5, plot_kws={'alpha':0.1});"
   ]
  },
  {
   "cell_type": "markdown",
   "metadata": {},
   "source": [
    "#### ▶ Heatmap:"
   ]
  },
  {
   "cell_type": "code",
   "execution_count": 44,
   "metadata": {},
   "outputs": [
    {
     "data": {
      "text/plain": [
       "(5.0, 0.0)"
      ]
     },
     "execution_count": 44,
     "metadata": {},
     "output_type": "execute_result"
    },
    {
     "data": {
      "image/png": "[encoded data removed]",
      "text/plain": [
       "<Figure size 864x360 with 2 Axes>"
      ]
     },
     "metadata": {
      "needs_background": "light"
     },
     "output_type": "display_data"
    }
   ],
   "source": [
    "#Calcula coeficientes de correlação (matriz):\n",
    "corr = heat.corr()\n",
    "\n",
    "#Plotando mapa de calor e fazendo alguns ajustes \n",
    "plt.figure(figsize = (12,5))\n",
    "ax = sns.heatmap(corr, xticklabels=corr.columns, yticklabels=corr.columns)\n",
    "baixo, topo = ax.get_ylim()\n",
    "ax.set_ylim(baixo + 0.5, topo - 0.5)"
   ]
  },
  {
   "cell_type": "markdown",
   "metadata": {},
   "source": [
    "▶ O pairplot fornece uma visão geral dos dados, assim como o heatmap. A única diferença é na visualização dos dados (por scatter, ou por cores). \n",
    "\n",
    "▶ O heatmap analisa os coeficientes de correlação juntamente com cores, ou seja, o quão uma variável se relaciona/depende da outra. Nesse sentido, cores mais claras indicam relação entre as colunas. Por sua vez, cores mais escuras indicam que as colunas não tem muita relação! \n",
    "\n",
    "▶ No caso , como nosso projeto visa **prever a radiação**, ela é a **variável que importa** relacionada a **outras features**. Isso é uma informação que será útil para os futuros modelos. Veja que, por exemplo, Radiação e Temperatura são as duas colunas que mais estão relacionadas do que algumas outras. Então a ideia dos modelos abaixo é entender qual o melhor modelo que encaixa a variável target, com a feature!"
   ]
  },
  {
   "cell_type": "markdown",
   "metadata": {},
   "source": [
    "## > Modelos de Predição "
   ]
  },
  {
   "cell_type": "code",
   "execution_count": 45,
   "metadata": {},
   "outputs": [
    {
     "data": {
      "text/html": [
       "<div>\n",
       "<style scoped>\n",
       "    .dataframe tbody tr th:only-of-type {\n",
       "        vertical-align: middle;\n",
       "    }\n",
       "\n",
       "    .dataframe tbody tr th {\n",
       "        vertical-align: top;\n",
       "    }\n",
       "\n",
       "    .dataframe thead th {\n",
       "        text-align: right;\n",
       "    }\n",
       "</style>\n",
       "<table border=\"1\" class=\"dataframe\">\n",
       "  <thead>\n",
       "    <tr style=\"text-align: right;\">\n",
       "      <th></th>\n",
       "      <th>Radiacao</th>\n",
       "      <th>Hora</th>\n",
       "      <th>TempGraus</th>\n",
       "      <th>Pressao(atm)</th>\n",
       "      <th>Umidade</th>\n",
       "      <th>DirVento</th>\n",
       "      <th>Velocidade</th>\n",
       "    </tr>\n",
       "  </thead>\n",
       "  <tbody>\n",
       "    <tr>\n",
       "      <td>1982</td>\n",
       "      <td>1.26</td>\n",
       "      <td>22:40:20</td>\n",
       "      <td>12.222222</td>\n",
       "      <td>(1.0503448275862068, 921)</td>\n",
       "      <td>85</td>\n",
       "      <td>118.05</td>\n",
       "      <td>3.62025</td>\n",
       "    </tr>\n",
       "    <tr>\n",
       "      <td>31862</td>\n",
       "      <td>1.23</td>\n",
       "      <td>20:35:34</td>\n",
       "      <td>7.222222</td>\n",
       "      <td>(1.0462068965517242, 921)</td>\n",
       "      <td>93</td>\n",
       "      <td>284.92</td>\n",
       "      <td>3.62025</td>\n",
       "    </tr>\n",
       "    <tr>\n",
       "      <td>15090</td>\n",
       "      <td>1.23</td>\n",
       "      <td>01:45:24</td>\n",
       "      <td>10.000000</td>\n",
       "      <td>(1.0496551724137932, 921)</td>\n",
       "      <td>102</td>\n",
       "      <td>141.76</td>\n",
       "      <td>7.24050</td>\n",
       "    </tr>\n",
       "  </tbody>\n",
       "</table>\n",
       "</div>"
      ],
      "text/plain": [
       "       Radiacao      Hora  TempGraus               Pressao(atm)  Umidade  \\\n",
       "1982       1.26  22:40:20  12.222222  (1.0503448275862068, 921)       85   \n",
       "31862      1.23  20:35:34   7.222222  (1.0462068965517242, 921)       93   \n",
       "15090      1.23  01:45:24  10.000000  (1.0496551724137932, 921)      102   \n",
       "\n",
       "       DirVento  Velocidade  \n",
       "1982     118.05     3.62025  \n",
       "31862    284.92     3.62025  \n",
       "15090    141.76     7.24050  "
      ]
     },
     "execution_count": 45,
     "metadata": {},
     "output_type": "execute_result"
    }
   ],
   "source": [
    "#Usando comando shuffle para fazer uma separação de forma aleatória (base testes e treino)\n",
    "dados2 = shuffle(heat).copy()\n",
    "dados2.head(3)"
   ]
  },
  {
   "cell_type": "code",
   "execution_count": 46,
   "metadata": {},
   "outputs": [
    {
     "data": {
      "text/plain": [
       "(32686, 7)"
      ]
     },
     "execution_count": 46,
     "metadata": {},
     "output_type": "execute_result"
    }
   ],
   "source": [
    "dados2.shape"
   ]
  },
  {
   "cell_type": "code",
   "execution_count": 47,
   "metadata": {},
   "outputs": [
    {
     "data": {
      "text/plain": [
       "(16343, 7)"
      ]
     },
     "execution_count": 47,
     "metadata": {},
     "output_type": "execute_result"
    }
   ],
   "source": [
    "#Iniciando processo de separação de dados:\n",
    "train = dados2.iloc[0:16343,]\n",
    "train.shape"
   ]
  },
  {
   "cell_type": "code",
   "execution_count": 48,
   "metadata": {},
   "outputs": [
    {
     "data": {
      "text/html": [
       "<div>\n",
       "<style scoped>\n",
       "    .dataframe tbody tr th:only-of-type {\n",
       "        vertical-align: middle;\n",
       "    }\n",
       "\n",
       "    .dataframe tbody tr th {\n",
       "        vertical-align: top;\n",
       "    }\n",
       "\n",
       "    .dataframe thead th {\n",
       "        text-align: right;\n",
       "    }\n",
       "</style>\n",
       "<table border=\"1\" class=\"dataframe\">\n",
       "  <thead>\n",
       "    <tr style=\"text-align: right;\">\n",
       "      <th></th>\n",
       "      <th>Radiacao</th>\n",
       "      <th>Hora</th>\n",
       "      <th>TempGraus</th>\n",
       "      <th>Pressao(atm)</th>\n",
       "      <th>Umidade</th>\n",
       "      <th>DirVento</th>\n",
       "      <th>Velocidade</th>\n",
       "    </tr>\n",
       "  </thead>\n",
       "  <tbody>\n",
       "    <tr>\n",
       "      <td>1982</td>\n",
       "      <td>1.26</td>\n",
       "      <td>22:40:20</td>\n",
       "      <td>12.222222</td>\n",
       "      <td>(1.0503448275862068, 921)</td>\n",
       "      <td>85</td>\n",
       "      <td>118.05</td>\n",
       "      <td>3.62025</td>\n",
       "    </tr>\n",
       "    <tr>\n",
       "      <td>31862</td>\n",
       "      <td>1.23</td>\n",
       "      <td>20:35:34</td>\n",
       "      <td>7.222222</td>\n",
       "      <td>(1.0462068965517242, 921)</td>\n",
       "      <td>93</td>\n",
       "      <td>284.92</td>\n",
       "      <td>3.62025</td>\n",
       "    </tr>\n",
       "    <tr>\n",
       "      <td>15090</td>\n",
       "      <td>1.23</td>\n",
       "      <td>01:45:24</td>\n",
       "      <td>10.000000</td>\n",
       "      <td>(1.0496551724137932, 921)</td>\n",
       "      <td>102</td>\n",
       "      <td>141.76</td>\n",
       "      <td>7.24050</td>\n",
       "    </tr>\n",
       "    <tr>\n",
       "      <td>10461</td>\n",
       "      <td>177.02</td>\n",
       "      <td>09:30:18</td>\n",
       "      <td>10.000000</td>\n",
       "      <td>(1.0503448275862068, 921)</td>\n",
       "      <td>102</td>\n",
       "      <td>65.05</td>\n",
       "      <td>16.28308</td>\n",
       "    </tr>\n",
       "    <tr>\n",
       "      <td>18135</td>\n",
       "      <td>1.19</td>\n",
       "      <td>04:45:05</td>\n",
       "      <td>5.000000</td>\n",
       "      <td>(1.0479310344827586, 921)</td>\n",
       "      <td>87</td>\n",
       "      <td>157.88</td>\n",
       "      <td>16.28308</td>\n",
       "    </tr>\n",
       "  </tbody>\n",
       "</table>\n",
       "</div>"
      ],
      "text/plain": [
       "       Radiacao      Hora  TempGraus               Pressao(atm)  Umidade  \\\n",
       "1982       1.26  22:40:20  12.222222  (1.0503448275862068, 921)       85   \n",
       "31862      1.23  20:35:34   7.222222  (1.0462068965517242, 921)       93   \n",
       "15090      1.23  01:45:24  10.000000  (1.0496551724137932, 921)      102   \n",
       "10461    177.02  09:30:18  10.000000  (1.0503448275862068, 921)      102   \n",
       "18135      1.19  04:45:05   5.000000  (1.0479310344827586, 921)       87   \n",
       "\n",
       "       DirVento  Velocidade  \n",
       "1982     118.05     3.62025  \n",
       "31862    284.92     3.62025  \n",
       "15090    141.76     7.24050  \n",
       "10461     65.05    16.28308  \n",
       "18135    157.88    16.28308  "
      ]
     },
     "execution_count": 48,
     "metadata": {},
     "output_type": "execute_result"
    }
   ],
   "source": [
    "train.head(5)"
   ]
  },
  {
   "cell_type": "code",
   "execution_count": 49,
   "metadata": {},
   "outputs": [
    {
     "data": {
      "text/plain": [
       "(16343, 7)"
      ]
     },
     "execution_count": 49,
     "metadata": {},
     "output_type": "execute_result"
    }
   ],
   "source": [
    "test = dados2.iloc[16343:,]\n",
    "test.shape"
   ]
  },
  {
   "cell_type": "code",
   "execution_count": 50,
   "metadata": {},
   "outputs": [
    {
     "data": {
      "text/html": [
       "<div>\n",
       "<style scoped>\n",
       "    .dataframe tbody tr th:only-of-type {\n",
       "        vertical-align: middle;\n",
       "    }\n",
       "\n",
       "    .dataframe tbody tr th {\n",
       "        vertical-align: top;\n",
       "    }\n",
       "\n",
       "    .dataframe thead th {\n",
       "        text-align: right;\n",
       "    }\n",
       "</style>\n",
       "<table border=\"1\" class=\"dataframe\">\n",
       "  <thead>\n",
       "    <tr style=\"text-align: right;\">\n",
       "      <th></th>\n",
       "      <th>Radiacao</th>\n",
       "      <th>Hora</th>\n",
       "      <th>TempGraus</th>\n",
       "      <th>Pressao(atm)</th>\n",
       "      <th>Umidade</th>\n",
       "      <th>DirVento</th>\n",
       "      <th>Velocidade</th>\n",
       "    </tr>\n",
       "  </thead>\n",
       "  <tbody>\n",
       "    <tr>\n",
       "      <td>19700</td>\n",
       "      <td>1.24</td>\n",
       "      <td>18:15:18</td>\n",
       "      <td>12.222222</td>\n",
       "      <td>(1.0489655172413794, 921)</td>\n",
       "      <td>19</td>\n",
       "      <td>151.37</td>\n",
       "      <td>5.42233</td>\n",
       "    </tr>\n",
       "    <tr>\n",
       "      <td>13489</td>\n",
       "      <td>9.89</td>\n",
       "      <td>17:55:20</td>\n",
       "      <td>13.888889</td>\n",
       "      <td>(1.0482758620689654, 921)</td>\n",
       "      <td>78</td>\n",
       "      <td>141.88</td>\n",
       "      <td>5.42233</td>\n",
       "    </tr>\n",
       "    <tr>\n",
       "      <td>18067</td>\n",
       "      <td>770.09</td>\n",
       "      <td>10:25:05</td>\n",
       "      <td>11.111111</td>\n",
       "      <td>(1.05, 921)</td>\n",
       "      <td>89</td>\n",
       "      <td>349.15</td>\n",
       "      <td>10.86075</td>\n",
       "    </tr>\n",
       "    <tr>\n",
       "      <td>12238</td>\n",
       "      <td>1.22</td>\n",
       "      <td>04:15:19</td>\n",
       "      <td>10.000000</td>\n",
       "      <td>(1.0503448275862068, 921)</td>\n",
       "      <td>25</td>\n",
       "      <td>187.62</td>\n",
       "      <td>12.66283</td>\n",
       "    </tr>\n",
       "    <tr>\n",
       "      <td>11465</td>\n",
       "      <td>1.26</td>\n",
       "      <td>21:50:18</td>\n",
       "      <td>11.666667</td>\n",
       "      <td>(1.0510344827586207, 921)</td>\n",
       "      <td>100</td>\n",
       "      <td>144.02</td>\n",
       "      <td>7.24050</td>\n",
       "    </tr>\n",
       "  </tbody>\n",
       "</table>\n",
       "</div>"
      ],
      "text/plain": [
       "       Radiacao      Hora  TempGraus               Pressao(atm)  Umidade  \\\n",
       "19700      1.24  18:15:18  12.222222  (1.0489655172413794, 921)       19   \n",
       "13489      9.89  17:55:20  13.888889  (1.0482758620689654, 921)       78   \n",
       "18067    770.09  10:25:05  11.111111                (1.05, 921)       89   \n",
       "12238      1.22  04:15:19  10.000000  (1.0503448275862068, 921)       25   \n",
       "11465      1.26  21:50:18  11.666667  (1.0510344827586207, 921)      100   \n",
       "\n",
       "       DirVento  Velocidade  \n",
       "19700    151.37     5.42233  \n",
       "13489    141.88     5.42233  \n",
       "18067    349.15    10.86075  \n",
       "12238    187.62    12.66283  \n",
       "11465    144.02     7.24050  "
      ]
     },
     "execution_count": 50,
     "metadata": {},
     "output_type": "execute_result"
    }
   ],
   "source": [
    "test.head(5)"
   ]
  },
  {
   "cell_type": "markdown",
   "metadata": {},
   "source": [
    "### ❑ Descrição e aplicação do Modelo 1 (Treinamento) e validação (Teste):"
   ]
  },
  {
   "cell_type": "markdown",
   "metadata": {},
   "source": [
    "#### ❑ Aplicação:"
   ]
  },
  {
   "cell_type": "markdown",
   "metadata": {},
   "source": [
    "▶ O heatmap e o pairplot acima indicam que a radiação tem relação com a temperatura. Pelo pairplot suspeitamos que seja possível aproximar linearmente essas duas variáveis, e por enquanto, faremos uma análise delas duas."
   ]
  },
  {
   "cell_type": "markdown",
   "metadata": {},
   "source": [
    "(Descrição do modelo, ver aula de regressão simples)"
   ]
  },
  {
   "cell_type": "code",
   "execution_count": 51,
   "metadata": {},
   "outputs": [],
   "source": [
    "#Iniciando código do modelo de regressão simples\n",
    "\n",
    "x_dados = train['TempGraus'] # Definindo Temperatura como explicativa\n",
    "y_dados = train['Radiacao']    # Definindo Radiacao como resposta\n",
    "\n",
    "# Matriz de 1s e valores de x_dados\n",
    "X_dados = sm.add_constant(x_dados.values) # Adiciona coluna de 1s para estimar intercepto junto com a coluna de x (dados)"
   ]
  },
  {
   "cell_type": "code",
   "execution_count": 52,
   "metadata": {},
   "outputs": [
    {
     "data": {
      "text/html": [
       "<table class=\"simpletable\">\n",
       "<caption>OLS Regression Results</caption>\n",
       "<tr>\n",
       "  <th>Dep. Variable:</th>        <td>Radiacao</td>     <th>  R-squared:         </th>  <td>   0.533</td>  \n",
       "</tr>\n",
       "<tr>\n",
       "  <th>Model:</th>                   <td>OLS</td>       <th>  Adj. R-squared:    </th>  <td>   0.533</td>  \n",
       "</tr>\n",
       "<tr>\n",
       "  <th>Method:</th>             <td>Least Squares</td>  <th>  F-statistic:       </th>  <td>1.866e+04</td> \n",
       "</tr>\n",
       "<tr>\n",
       "  <th>Date:</th>             <td>Tue, 17 Nov 2020</td> <th>  Prob (F-statistic):</th>   <td>  0.00</td>   \n",
       "</tr>\n",
       "<tr>\n",
       "  <th>Time:</th>                 <td>14:23:53</td>     <th>  Log-Likelihood:    </th> <td>-1.1093e+05</td>\n",
       "</tr>\n",
       "<tr>\n",
       "  <th>No. Observations:</th>      <td> 16343</td>      <th>  AIC:               </th>  <td>2.219e+05</td> \n",
       "</tr>\n",
       "<tr>\n",
       "  <th>Df Residuals:</th>          <td> 16341</td>      <th>  BIC:               </th>  <td>2.219e+05</td> \n",
       "</tr>\n",
       "<tr>\n",
       "  <th>Df Model:</th>              <td>     1</td>      <th>                     </th>      <td> </td>     \n",
       "</tr>\n",
       "<tr>\n",
       "  <th>Covariance Type:</th>      <td>nonrobust</td>    <th>                     </th>      <td> </td>     \n",
       "</tr>\n",
       "</table>\n",
       "<table class=\"simpletable\">\n",
       "<tr>\n",
       "    <td></td>       <th>coef</th>     <th>std err</th>      <th>t</th>      <th>P>|t|</th>  <th>[0.025</th>    <th>0.975]</th>  \n",
       "</tr>\n",
       "<tr>\n",
       "  <th>const</th> <td> -502.8857</td> <td>    5.452</td> <td>  -92.231</td> <td> 0.000</td> <td> -513.573</td> <td> -492.198</td>\n",
       "</tr>\n",
       "<tr>\n",
       "  <th>x1</th>    <td>   66.8298</td> <td>    0.489</td> <td>  136.616</td> <td> 0.000</td> <td>   65.871</td> <td>   67.789</td>\n",
       "</tr>\n",
       "</table>\n",
       "<table class=\"simpletable\">\n",
       "<tr>\n",
       "  <th>Omnibus:</th>       <td>1228.012</td> <th>  Durbin-Watson:     </th> <td>   1.990</td>\n",
       "</tr>\n",
       "<tr>\n",
       "  <th>Prob(Omnibus):</th>  <td> 0.000</td>  <th>  Jarque-Bera (JB):  </th> <td>1619.395</td>\n",
       "</tr>\n",
       "<tr>\n",
       "  <th>Skew:</th>           <td> 0.665</td>  <th>  Prob(JB):          </th> <td>    0.00</td>\n",
       "</tr>\n",
       "<tr>\n",
       "  <th>Kurtosis:</th>       <td> 3.781</td>  <th>  Cond. No.          </th> <td>    36.5</td>\n",
       "</tr>\n",
       "</table><br/><br/>Warnings:<br/>[1] Standard Errors assume that the covariance matrix of the errors is correctly specified."
      ],
      "text/plain": [
       "<class 'statsmodels.iolib.summary.Summary'>\n",
       "\"\"\"\n",
       "                            OLS Regression Results                            \n",
       "==============================================================================\n",
       "Dep. Variable:               Radiacao   R-squared:                       0.533\n",
       "Model:                            OLS   Adj. R-squared:                  0.533\n",
       "Method:                 Least Squares   F-statistic:                 1.866e+04\n",
       "Date:                Tue, 17 Nov 2020   Prob (F-statistic):               0.00\n",
       "Time:                        14:23:53   Log-Likelihood:            -1.1093e+05\n",
       "No. Observations:               16343   AIC:                         2.219e+05\n",
       "Df Residuals:                   16341   BIC:                         2.219e+05\n",
       "Df Model:                           1                                         \n",
       "Covariance Type:            nonrobust                                         \n",
       "==============================================================================\n",
       "                 coef    std err          t      P>|t|      [0.025      0.975]\n",
       "------------------------------------------------------------------------------\n",
       "const       -502.8857      5.452    -92.231      0.000    -513.573    -492.198\n",
       "x1            66.8298      0.489    136.616      0.000      65.871      67.789\n",
       "==============================================================================\n",
       "Omnibus:                     1228.012   Durbin-Watson:                   1.990\n",
       "Prob(Omnibus):                  0.000   Jarque-Bera (JB):             1619.395\n",
       "Skew:                           0.665   Prob(JB):                         0.00\n",
       "Kurtosis:                       3.781   Cond. No.                         36.5\n",
       "==============================================================================\n",
       "\n",
       "Warnings:\n",
       "[1] Standard Errors assume that the covariance matrix of the errors is correctly specified.\n",
       "\"\"\""
      ]
     },
     "execution_count": 52,
     "metadata": {},
     "output_type": "execute_result"
    }
   ],
   "source": [
    "# Define o modelo\n",
    "model = sm.OLS(y_dados, X_dados)    \n",
    "\n",
    "# Faz o ajuste\n",
    "results = model.fit()   \n",
    "\n",
    "# Mostra os resultados\n",
    "results.summary()   "
   ]
  },
  {
   "cell_type": "markdown",
   "metadata": {},
   "source": [
    "#### ❑ Análises:"
   ]
  },
  {
   "cell_type": "code",
   "execution_count": null,
   "metadata": {},
   "outputs": [],
   "source": []
  },
  {
   "cell_type": "markdown",
   "metadata": {},
   "source": [
    "#### ❑ Validação:"
   ]
  },
  {
   "cell_type": "markdown",
   "metadata": {},
   "source": [
    "### ❑ Descrição e aplicação do Modelo 2 (Treinamento) e validação (Teste):"
   ]
  },
  {
   "cell_type": "markdown",
   "metadata": {},
   "source": [
    "(Descrição do modelo 2 e justificativa)"
   ]
  },
  {
   "cell_type": "markdown",
   "metadata": {},
   "source": [
    "#### ❑ Aplicação:"
   ]
  },
  {
   "cell_type": "code",
   "execution_count": null,
   "metadata": {},
   "outputs": [],
   "source": []
  },
  {
   "cell_type": "markdown",
   "metadata": {},
   "source": [
    "#### ❑ Análises:"
   ]
  },
  {
   "cell_type": "code",
   "execution_count": null,
   "metadata": {},
   "outputs": [],
   "source": []
  },
  {
   "cell_type": "markdown",
   "metadata": {},
   "source": [
    "#### ❑ Validação:"
   ]
  },
  {
   "cell_type": "code",
   "execution_count": null,
   "metadata": {},
   "outputs": [],
   "source": []
  },
  {
   "cell_type": "markdown",
   "metadata": {},
   "source": [
    "## > Conclusão "
   ]
  },
  {
   "cell_type": "code",
   "execution_count": null,
   "metadata": {},
   "outputs": [],
   "source": []
  },
  {
   "cell_type": "markdown",
   "metadata": {},
   "source": [
    "## > Referências Bibliográficas "
   ]
  },
  {
   "cell_type": "code",
   "execution_count": null,
   "metadata": {},
   "outputs": [],
   "source": []
  }
 ],
 "metadata": {
  "kernelspec": {
   "display_name": "Python 3",
   "language": "python",
   "name": "python3"
  },
  "language_info": {
   "codemirror_mode": {
    "name": "ipython",
    "version": 3
   },
   "file_extension": ".py",
   "mimetype": "text/x-python",
   "name": "python",
   "nbconvert_exporter": "python",
   "pygments_lexer": "ipython3",
   "version": "3.7.4"
  }
 },
 "nbformat": 4,
 "nbformat_minor": 2
}
